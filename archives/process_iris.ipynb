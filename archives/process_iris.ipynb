{
 "cells": [
  {
   "cell_type": "code",
   "execution_count": 9,
   "source": [
    "import pandas as pd\n",
    "import numpy as np\n",
    "\n",
    "iris = pd.read_csv('iris.csv', index_col=0)\n",
    "iris = iris.sample(frac=1)\n",
    "\n",
    "X = iris[['SepalLengthCm', 'SepalWidthCm', 'PetalLengthCm', 'PetalWidthCm']]\n",
    "y = iris['Species']\n",
    "\n",
    "np.save('Xiris.npy', X.to_numpy())\n",
    "np.save('yiris.npy', y.to_numpy())"
   ],
   "outputs": [
    {
     "output_type": "stream",
     "name": "stdout",
     "text": [
      "     SepalLengthCm  SepalWidthCm  PetalLengthCm  PetalWidthCm          Species\n",
      "Id                                                                            \n",
      "109            6.7           2.5            5.8           1.8   Iris-virginica\n",
      "33             5.2           4.1            1.5           0.1      Iris-setosa\n",
      "125            6.7           3.3            5.7           2.1   Iris-virginica\n",
      "82             5.5           2.4            3.7           1.0  Iris-versicolor\n",
      "34             5.5           4.2            1.4           0.2      Iris-setosa\n",
      "..             ...           ...            ...           ...              ...\n",
      "16             5.7           4.4            1.5           0.4      Iris-setosa\n",
      "111            6.5           3.2            5.1           2.0   Iris-virginica\n",
      "119            7.7           2.6            6.9           2.3   Iris-virginica\n",
      "43             4.4           3.2            1.3           0.2      Iris-setosa\n",
      "57             6.3           3.3            4.7           1.6  Iris-versicolor\n",
      "\n",
      "[150 rows x 5 columns]\n"
     ]
    }
   ],
   "metadata": {}
  }
 ],
 "metadata": {
  "orig_nbformat": 4,
  "language_info": {
   "name": "python",
   "version": "3.9.4",
   "mimetype": "text/x-python",
   "codemirror_mode": {
    "name": "ipython",
    "version": 3
   },
   "pygments_lexer": "ipython3",
   "nbconvert_exporter": "python",
   "file_extension": ".py"
  },
  "kernelspec": {
   "name": "python3",
   "display_name": "Python 3.9.4 64-bit"
  },
  "interpreter": {
   "hash": "aee8b7b246df8f9039afb4144a1f6fd8d2ca17a180786b69acc140d282b71a49"
  }
 },
 "nbformat": 4,
 "nbformat_minor": 2
}