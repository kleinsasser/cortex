{
 "cells": [
  {
   "cell_type": "code",
   "execution_count": 1,
   "metadata": {},
   "outputs": [],
   "source": [
    "import numpy as np\n",
    "import matplotlib.pyplot as plt\n",
    "\n",
    "from cortex import Cortex"
   ]
  },
  {
   "cell_type": "markdown",
   "metadata": {},
   "source": [
    "## Instantiate Model"
   ]
  },
  {
   "cell_type": "code",
   "execution_count": 9,
   "metadata": {},
   "outputs": [],
   "source": [
    "min_visual_activation = 0.83\n",
    "visual_activation_decrement = 0.05\n",
    "\n",
    "default_edge_weight = 1.0\n",
    "boost_constant = 0.01\n",
    "\n",
    "cortex = Cortex(\n",
    "    min_visual_activation = min_visual_activation,\n",
    "    visual_activation_decrement = visual_activation_decrement,\n",
    "    default_edge_weight = default_edge_weight, \n",
    "    boost_constant = boost_constant\n",
    "    )"
   ]
  },
  {
   "cell_type": "markdown",
   "metadata": {},
   "source": [
    "## Train on Digits"
   ]
  },
  {
   "cell_type": "code",
   "execution_count": 10,
   "metadata": {},
   "outputs": [
    {
     "name": "stdout",
     "output_type": "stream",
     "text": [
      "Training\n",
      "Testing\n",
      "850 / 1000 -> 0.85\n",
      "Num Columns: 478\n"
     ]
    }
   ],
   "source": [
    "X = np.load('data/mnist-processed/X.npy')\n",
    "y = np.load('data/mnist-processed/y.npy', allow_pickle=True)\n",
    "\n",
    "train_samples = 1000\n",
    "train_start_ix = 0\n",
    "test_samples = 1000\n",
    "test_start_ix = 50000\n",
    "\n",
    "cortex.learning.set_learning(True)\n",
    "\n",
    "print('Training')\n",
    "for i in range(train_start_ix, train_start_ix + train_samples):\n",
    "    cortex.learn_association(('visual', X[i]), ('text', y[i]))\n",
    "\n",
    "print('Testing')\n",
    "cortex.learning.set_learning(False)\n",
    "total = 0\n",
    "correct = 0\n",
    "incorrect_indexes = []\n",
    "for i in range(test_start_ix, test_start_ix + test_samples):\n",
    "    cortex.force_visual_perception(X[i])\n",
    "    cortex.propagate_activations()\n",
    "    pred = cortex.get_most_active_col(input_type = 'text')\n",
    "    cortex.reset()\n",
    "\n",
    "    if pred.reference == y[i]: \n",
    "        correct += 1\n",
    "    else:\n",
    "        incorrect_indexes.append(i)\n",
    "    total += 1\n",
    "\n",
    "print('{} / {} -> {}'.format(correct, total, (correct / total)))\n",
    "print('Num Columns:', len(cortex.columns))"
   ]
  },
  {
   "cell_type": "markdown",
   "metadata": {},
   "source": [
    "## Train on Fashion"
   ]
  },
  {
   "cell_type": "code",
   "execution_count": 11,
   "metadata": {},
   "outputs": [
    {
     "name": "stdout",
     "output_type": "stream",
     "text": [
      "Training\n",
      "Testing\n",
      "540 / 1000 -> 0.54\n",
      "Num Columns: 618\n"
     ]
    }
   ],
   "source": [
    "X = np.load('data/fashion-mnist-processed/X.npy')\n",
    "y = np.load('data/fashion-mnist-processed/y.npy', allow_pickle=True)\n",
    "\n",
    "X = X\n",
    "\n",
    "train_samples = 1000\n",
    "train_start_ix = 0\n",
    "test_samples = 1000\n",
    "test_start_ix = 50000\n",
    "\n",
    "cortex.learning.set_learning(True)\n",
    "\n",
    "print('Training')\n",
    "for i in range(train_start_ix, train_start_ix + train_samples):\n",
    "    cortex.learn_association(('visual', X[i]), ('text', y[i]))\n",
    "\n",
    "print('Testing')\n",
    "cortex.learning.set_learning(False)\n",
    "total = 0\n",
    "correct = 0\n",
    "incorrect_indexes = []\n",
    "for i in range(test_start_ix, test_start_ix + test_samples):\n",
    "    cortex.force_visual_perception(X[i])\n",
    "    cortex.propagate_activations()\n",
    "    pred = cortex.get_most_active_col(input_type = 'text')\n",
    "    cortex.reset()\n",
    "\n",
    "    if pred.reference == y[i]: \n",
    "        correct += 1\n",
    "    else:\n",
    "        incorrect_indexes.append(i)\n",
    "    total += 1\n",
    "\n",
    "print('{} / {} -> {}'.format(correct, total, (correct / total)))\n",
    "print('Num Columns:', len(cortex.columns))"
   ]
  },
  {
   "cell_type": "markdown",
   "metadata": {},
   "source": [
    "## Test Fashion or Digit Classification"
   ]
  },
  {
   "cell_type": "code",
   "execution_count": 16,
   "metadata": {},
   "outputs": [],
   "source": [
    "# teach digits\n",
    "cortex.learn_association(('text', '0'), ('text', 'digit'))\n",
    "cortex.learn_association(('text', '1'), ('text', 'digit'))\n",
    "cortex.learn_association(('text', '2'), ('text', 'digit'))\n",
    "cortex.learn_association(('text', '3'), ('text', 'digit'))\n",
    "cortex.learn_association(('text', '4'), ('text', 'digit'))\n",
    "cortex.learn_association(('text', '5'), ('text', 'digit'))\n",
    "cortex.learn_association(('text', '6'), ('text', 'digit'))\n",
    "cortex.learn_association(('text', '7'), ('text', 'digit'))\n",
    "cortex.learn_association(('text', '8'), ('text', 'digit'))\n",
    "cortex.learn_association(('text', '9'), ('text', 'digit'))\n",
    "\n",
    "# teach fashion\n",
    "cortex.learn_association(('text', 't-shirt'), ('text', 'fashion'))\n",
    "cortex.learn_association(('text', 'trouser'), ('text', 'fashion'))\n",
    "cortex.learn_association(('text', 'pullover'), ('text', 'fashion'))\n",
    "cortex.learn_association(('text', 'dress'), ('text', 'fashion'))\n",
    "cortex.learn_association(('text', 'coat'), ('text', 'fashion'))\n",
    "cortex.learn_association(('text', 'sandal'), ('text', 'fashion'))\n",
    "cortex.learn_association(('text', 'shirt'), ('text', 'fashion'))\n",
    "cortex.learn_association(('text', 'sneaker'), ('text', 'fashion'))\n",
    "cortex.learn_association(('text', 'bag'), ('text', 'fashion'))\n",
    "cortex.learn_association(('text', 'boot'), ('text', 'fashion'))"
   ]
  },
  {
   "cell_type": "code",
   "execution_count": 17,
   "metadata": {},
   "outputs": [
    {
     "name": "stdout",
     "output_type": "stream",
     "text": [
      "Digit Accuracy:  0.985\n",
      "Fashion Accuracy:  0.998\n"
     ]
    }
   ],
   "source": [
    "X_digits = np.load('data/mnist-processed/X.npy')\n",
    "y_digits = np.load('data/mnist-processed/y.npy', allow_pickle=True)\n",
    "\n",
    "X_fashion = X\n",
    "y_fashion = y\n",
    "\n",
    "correct_digits = 0\n",
    "total_digits = 0\n",
    "for i in range(51000, 52000):\n",
    "    cortex.force_visual_perception(X_digits[i])\n",
    "    for _ in range(2):\n",
    "        cortex.propagate_activations()\n",
    "    \n",
    "    digit_confidence = None\n",
    "    fashion_confidence = None\n",
    "    for c in cortex.columns:\n",
    "        if c.input_type == 'text' and c.reference == 'digit':\n",
    "            digit_confidence = c.activation\n",
    "        if c.input_type == 'text' and c.reference == 'fashion':\n",
    "            fashion_confidence = c.activation\n",
    "    \n",
    "    if digit_confidence > fashion_confidence:\n",
    "        correct_digits += 1\n",
    "    total_digits += 1\n",
    "\n",
    "    cortex.reset()\n",
    "\n",
    "correct_fashion = 0\n",
    "total_fashion = 0\n",
    "for i in range(51000, 52000):\n",
    "    cortex.force_visual_perception(X_fashion[i])\n",
    "    for _ in range(2):\n",
    "        cortex.propagate_activations()\n",
    "    \n",
    "    digit_confidence = None\n",
    "    fashion_confidence = None\n",
    "    for c in cortex.columns:\n",
    "        if c.input_type == 'text' and c.reference == 'digit':\n",
    "            digit_confidence = c.activation\n",
    "        if c.input_type == 'text' and c.reference == 'fashion':\n",
    "            fashion_confidence = c.activation\n",
    "    \n",
    "    if digit_confidence < fashion_confidence:\n",
    "        correct_fashion += 1\n",
    "    total_fashion += 1\n",
    "\n",
    "    cortex.reset()\n",
    "\n",
    "print('Digit Accuracy: ', correct_digits / total_digits)\n",
    "print('Fashion Accuracy: ', correct_fashion / total_fashion)"
   ]
  },
  {
   "cell_type": "code",
   "execution_count": 18,
   "metadata": {},
   "outputs": [
    {
     "name": "stdout",
     "output_type": "stream",
     "text": [
      "Reference:  4\n",
      "Activation:  0.8585538390088848\n",
      "Propagated:  True\n",
      "\n",
      "Reference:  boot\n",
      "Activation:  8.484992821089238\n",
      "Propagated:  True\n",
      "\n",
      "Reference:  t-shirt\n",
      "Activation:  16.395088724345687\n",
      "Propagated:  True\n",
      "\n",
      "Reference:  dress\n",
      "Activation:  15.392292505217583\n",
      "Propagated:  True\n",
      "\n",
      "Reference:  pullover\n",
      "Activation:  16.037140302403174\n",
      "Propagated:  True\n",
      "\n",
      "Reference:  sneaker\n",
      "Activation:  12.505968025785574\n",
      "Propagated:  True\n",
      "\n",
      "Reference:  sandal\n",
      "Activation:  7.003484216645731\n",
      "Propagated:  True\n",
      "\n",
      "Reference:  trouser\n",
      "Activation:  13.070949441367882\n",
      "Propagated:  True\n",
      "\n",
      "Reference:  shirt\n",
      "Activation:  17.169433333396345\n",
      "Propagated:  True\n",
      "\n",
      "Reference:  coat\n",
      "Activation:  15.482460735640025\n",
      "Propagated:  True\n",
      "\n",
      "Reference:  bag\n",
      "Activation:  15.380987747106659\n",
      "Propagated:  True\n",
      "\n",
      "Reference:  digit\n",
      "Activation:  0.8585538390088848\n",
      "Propagated:  False\n",
      "\n",
      "Reference:  fashion\n",
      "Activation:  139.66125381005787\n",
      "Propagated:  False\n",
      "\n"
     ]
    }
   ],
   "source": [
    "cortex.reset()\n",
    "cortex.percieve_input(input_type = 'visual', input = X_fashion[51001])\n",
    "cortex.propagate_activations()\n",
    "cortex.propagate_activations()\n",
    "cols = cortex.get_active_cols()\n",
    "for c in cols:\n",
    "    if c.input_type == 'text':\n",
    "        print('Reference: ', c.reference)\n",
    "        print('Activation: ', c.activation)\n",
    "        print('Propagated: ', c.propagated)\n",
    "        print()\n",
    "\n",
    "cortex.reset()"
   ]
  },
  {
   "cell_type": "code",
   "execution_count": 19,
   "metadata": {},
   "outputs": [
    {
     "name": "stdout",
     "output_type": "stream",
     "text": [
      "639\n"
     ]
    },
    {
     "data": {
      "image/png": "[encoded data removed]",
      "text/plain": [
       "<Figure size 432x288 with 1 Axes>"
      ]
     },
     "metadata": {
      "needs_background": "light"
     },
     "output_type": "display_data"
    },
    {
     "name": "stdout",
     "output_type": "stream",
     "text": [
      "Support:  114\n",
      "Connection: 5   Weight: 1.0\n",
      "Connection: trouser   Weight: 1.01\n",
      "Connection: bag   Weight: 1.04\n",
      "Connection: boot   Weight: 1.01\n",
      "Connection: coat   Weight: 1.1\n",
      "Connection: shirt   Weight: 1.2400000000000002\n",
      "Connection: sandal   Weight: 1.06\n",
      "Connection: t-shirt   Weight: 1.1900000000000002\n",
      "Connection: pullover   Weight: 1.1800000000000002\n",
      "Connection: sneaker   Weight: 1.1300000000000001\n",
      "Connection: dress   Weight: 1.07\n",
      "Visual Connections:  0\n"
     ]
    },
    {
     "data": {
      "image/png": "[encoded data removed]",
      "text/plain": [
       "<Figure size 432x288 with 1 Axes>"
      ]
     },
     "metadata": {
      "needs_background": "light"
     },
     "output_type": "display_data"
    },
    {
     "name": "stdout",
     "output_type": "stream",
     "text": [
      "Support:  1\n",
      "Connection: 8   Weight: 1.0\n",
      "Visual Connections:  0\n"
     ]
    },
    {
     "data": {
      "image/png": "[encoded data removed]",
      "text/plain": [
       "<Figure size 432x288 with 1 Axes>"
      ]
     },
     "metadata": {
      "needs_background": "light"
     },
     "output_type": "display_data"
    },
    {
     "name": "stdout",
     "output_type": "stream",
     "text": [
      "Support:  1\n",
      "Connection: 9   Weight: 1.0\n",
      "Visual Connections:  0\n"
     ]
    },
    {
     "data": {
      "image/png": "[encoded data removed]",
      "text/plain": [
       "<Figure size 432x288 with 1 Axes>"
      ]
     },
     "metadata": {
      "needs_background": "light"
     },
     "output_type": "display_data"
    },
    {
     "name": "stdout",
     "output_type": "stream",
     "text": [
      "Support:  1\n",
      "Connection: 8   Weight: 1.0\n",
      "Visual Connections:  0\n"
     ]
    },
    {
     "data": {
      "image/png": "[encoded data removed]",
      "text/plain": [
       "<Figure size 432x288 with 1 Axes>"
      ]
     },
     "metadata": {
      "needs_background": "light"
     },
     "output_type": "display_data"
    },
    {
     "name": "stdout",
     "output_type": "stream",
     "text": [
      "Support:  2\n",
      "Connection: 9   Weight: 1.01\n",
      "Visual Connections:  0\n"
     ]
    },
    {
     "data": {
      "image/png": "[encoded data removed]",
      "text/plain": [
       "<Figure size 432x288 with 1 Axes>"
      ]
     },
     "metadata": {
      "needs_background": "light"
     },
     "output_type": "display_data"
    },
    {
     "name": "stdout",
     "output_type": "stream",
     "text": [
      "Support:  1\n",
      "Connection: 2   Weight: 1.0\n",
      "Visual Connections:  0\n"
     ]
    },
    {
     "data": {
      "image/png": "[encoded data removed]",
      "text/plain": [
       "<Figure size 432x288 with 1 Axes>"
      ]
     },
     "metadata": {
      "needs_background": "light"
     },
     "output_type": "display_data"
    },
    {
     "name": "stdout",
     "output_type": "stream",
     "text": [
      "Support:  1\n",
      "Connection: 4   Weight: 1.0\n",
      "Visual Connections:  0\n"
     ]
    },
    {
     "data": {
      "image/png": "[encoded data removed]",
      "text/plain": [
       "<Figure size 432x288 with 1 Axes>"
      ]
     },
     "metadata": {
      "needs_background": "light"
     },
     "output_type": "display_data"
    },
    {
     "name": "stdout",
     "output_type": "stream",
     "text": [
      "Support:  2\n",
      "Connection: 2   Weight: 1.01\n",
      "Visual Connections:  0\n"
     ]
    },
    {
     "data": {
      "image/png": "[encoded data removed]",
      "text/plain": [
       "<Figure size 432x288 with 1 Axes>"
      ]
     },
     "metadata": {
      "needs_background": "light"
     },
     "output_type": "display_data"
    },
    {
     "name": "stdout",
     "output_type": "stream",
     "text": [
      "Support:  1\n",
      "Connection: 3   Weight: 1.0\n",
      "Visual Connections:  0\n"
     ]
    },
    {
     "data": {
      "image/png": "[encoded data removed]",
      "text/plain": [
       "<Figure size 432x288 with 1 Axes>"
      ]
     },
     "metadata": {
      "needs_background": "light"
     },
     "output_type": "display_data"
    },
    {
     "name": "stdout",
     "output_type": "stream",
     "text": [
      "Support:  1\n",
      "Connection: 6   Weight: 1.0\n",
      "Visual Connections:  0\n"
     ]
    }
   ],
   "source": [
    "print(len(cortex.columns))\n",
    "\n",
    "show = 10\n",
    "shown = 0\n",
    "\n",
    "for c in cortex.columns[400:]:\n",
    "    if show == shown: break\n",
    "\n",
    "    if c.input_type == 'visual':\n",
    "        shown += 1\n",
    "\n",
    "        plt.imshow(c.reference)\n",
    "        plt.show()\n",
    "\n",
    "        print('Support: ', c.support)\n",
    "\n",
    "        visual = 0\n",
    "        for k in c.connections:\n",
    "            if k[0].input_type == 'text':\n",
    "                print('Connection:', k[0].reference, '  Weight:', k[1])\n",
    "            else:\n",
    "                visual += 1\n",
    "        print('Visual Connections: ', visual)"
   ]
  },
  {
   "cell_type": "code",
   "execution_count": 57,
   "metadata": {},
   "outputs": [
    {
     "name": "stdout",
     "output_type": "stream",
     "text": [
      "Reference: 5\n",
      "Num Connections: 26\n",
      "\n",
      "Reference: 0\n",
      "Num Connections: 34\n",
      "\n",
      "Reference: 4\n",
      "Num Connections: 36\n",
      "\n",
      "Reference: 1\n",
      "Num Connections: 24\n",
      "\n",
      "Reference: 9\n",
      "Num Connections: 35\n",
      "\n",
      "Reference: 2\n",
      "Num Connections: 41\n",
      "\n",
      "Reference: 3\n",
      "Num Connections: 29\n",
      "\n",
      "Reference: 6\n",
      "Num Connections: 27\n",
      "\n",
      "Reference: 7\n",
      "Num Connections: 26\n",
      "\n",
      "Reference: 8\n",
      "Num Connections: 34\n",
      "\n",
      "Reference: boot\n",
      "Num Connections: 17\n",
      "\n",
      "Reference: t-shirt\n",
      "Num Connections: 31\n",
      "\n",
      "Reference: dress\n",
      "Num Connections: 36\n",
      "\n",
      "Reference: pullover\n",
      "Num Connections: 31\n",
      "\n",
      "Reference: sneaker\n",
      "Num Connections: 17\n",
      "\n",
      "Reference: sandal\n",
      "Num Connections: 37\n",
      "\n",
      "Reference: trouser\n",
      "Num Connections: 24\n",
      "\n",
      "Reference: shirt\n",
      "Num Connections: 45\n",
      "\n",
      "Reference: coat\n",
      "Num Connections: 34\n",
      "\n",
      "Reference: bag\n",
      "Num Connections: 36\n",
      "\n",
      "Reference: 0\n",
      "Num Connections: 1\n",
      "\n",
      "Reference: digit\n",
      "Num Connections: 10\n",
      "\n",
      "Reference: 1\n",
      "Num Connections: 1\n",
      "\n",
      "Reference: 2\n",
      "Num Connections: 1\n",
      "\n",
      "Reference: 3\n",
      "Num Connections: 1\n",
      "\n",
      "Reference: 4\n",
      "Num Connections: 1\n",
      "\n",
      "Reference: 5\n",
      "Num Connections: 1\n",
      "\n",
      "Reference: 6\n",
      "Num Connections: 1\n",
      "\n",
      "Reference: 7\n",
      "Num Connections: 1\n",
      "\n",
      "Reference: 8\n",
      "Num Connections: 1\n",
      "\n",
      "Reference: 9\n",
      "Num Connections: 1\n",
      "\n",
      "Reference: fashion\n",
      "Num Connections: 10\n",
      "\n"
     ]
    }
   ],
   "source": [
    "for c in cortex.columns:\n",
    "    if c.input_type == 'text':\n",
    "        print('Reference:', c.reference)\n",
    "        print('Num Connections:', len(c.connections))\n",
    "        print()"
   ]
  },
  {
   "cell_type": "code",
   "execution_count": null,
   "metadata": {},
   "outputs": [],
   "source": [
    "show = 1\n",
    "shown = 0\n",
    "\n",
    "for _ in range(1):\n",
    "    incorrect_indexes.pop(0)\n",
    "\n",
    "no_guess = 0\n",
    "total = 0\n",
    "for i in incorrect_indexes:\n",
    "    if shown == show: break\n",
    "    shown += 1\n",
    "\n",
    "    print('INPUT IMAGE:')\n",
    "    plt.imshow(X[i])\n",
    "    plt.show()\n",
    "    print()\n",
    "\n",
    "    pred = cortex.force_visual_prediction(X[i])\n",
    "    active_cols = cortex.get_active_cols()\n",
    "\n",
    "    if len(active_cols) == 0:\n",
    "        no_guess += 1\n",
    "    total += 1\n",
    "\n",
    "    for c in active_cols:\n",
    "\n",
    "        if c.input_type == 'visual':\n",
    "            print('ACTIVE VISUAL COLUMN:')\n",
    "\n",
    "            plt.imshow(c.reference)\n",
    "            plt.show()\n",
    "\n",
    "            print('Activation: ', c.activation)\n",
    "            print('Support: ', c.support)\n",
    "\n",
    "            for k in c.connections:\n",
    "                print('Connection:', k[0].reference, '  Weight:', k[1])\n",
    "            print()\n",
    "    \n",
    "    for c in active_cols:\n",
    "        if c.input_type == 'text':\n",
    "            print('ACTIVE TEXT COLUMN:')\n",
    "            print('Reference:', c.reference)\n",
    "            print('Num Connections:', len(c.connections))\n",
    "            print('Activation: ', c.activation)\n",
    "            print()\n",
    "    \n",
    "    cortex.reset()\n",
    "\n",
    "print(no_guess / total)"
   ]
  }
 ],
 "metadata": {
  "interpreter": {
   "hash": "aee8b7b246df8f9039afb4144a1f6fd8d2ca17a180786b69acc140d282b71a49"
  },
  "kernelspec": {
   "display_name": "Python 3.9.4 64-bit",
   "name": "python3"
  },
  "language_info": {
   "codemirror_mode": {
    "name": "ipython",
    "version": 3
   },
   "file_extension": ".py",
   "mimetype": "text/x-python",
   "name": "python",
   "nbconvert_exporter": "python",
   "pygments_lexer": "ipython3",
   "version": "3.9.4"
  },
  "orig_nbformat": 4
 },
 "nbformat": 4,
 "nbformat_minor": 2
}
